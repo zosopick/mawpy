{
 "cells": [
  {
   "cell_type": "markdown",
   "metadata": {},
   "source": [
    "# Part 1: Drawing Poygons with the turtle module"
   ]
  },
  {
   "cell_type": "code",
   "execution_count": null,
   "metadata": {},
   "outputs": [],
   "source": [
    "#Python's turtle module\n",
    "\n",
    "from turtle import *"
   ]
  },
  {
   "cell_type": "code",
   "execution_count": null,
   "metadata": {},
   "outputs": [],
   "source": [
    "#To move it we use the forward() function\n",
    "forward(100)"
   ]
  },
  {
   "cell_type": "markdown",
   "metadata": {},
   "source": [
    "We can create a program which does this for us automatically.\n",
    "Name it myturtle.py"
   ]
  },
  {
   "cell_type": "code",
   "execution_count": null,
   "metadata": {},
   "outputs": [],
   "source": [
    "'''\n",
    "myturtle.py\n",
    "\n",
    "'''\n",
    "from turtle import *\n",
    "forward(100)\n",
    "shape('turtle')"
   ]
  },
  {
   "cell_type": "code",
   "execution_count": null,
   "metadata": {},
   "outputs": [],
   "source": [
    "#Changing directions:\n",
    "from turtle import *\n",
    "shape('turtle')\n",
    "forward(100)\n",
    "right(45)\n",
    "forward(150)"
   ]
  },
  {
   "cell_type": "code",
   "execution_count": null,
   "metadata": {},
   "outputs": [],
   "source": [
    "'''\n",
    "Excersise 1-1 Square Dance:\n",
    "\n",
    "Return to the myturtle.py program. Your challenge is to modify the code\n",
    "in the program using only the foward and right function so that the turtle\n",
    "draws a square\n",
    "'''\n",
    "\n",
    "from turtle import *\n",
    "shape('turtle')\n",
    "forward(100)\n",
    "right(90)\n",
    "forward(100)\n",
    "right(90)\n",
    "forward(100)\n",
    "right(90)\n",
    "forward(100)"
   ]
  },
  {
   "cell_type": "markdown",
   "metadata": {},
   "source": [
    "Repeating code with loops"
   ]
  },
  {
   "cell_type": "code",
   "execution_count": null,
   "metadata": {},
   "outputs": [],
   "source": [
    "#Using the for loop\n",
    "for i in range(2):\n",
    "    print('Hello')"
   ]
  },
  {
   "cell_type": "code",
   "execution_count": null,
   "metadata": {},
   "outputs": [],
   "source": [
    "for i in range(10):\n",
    "    print('Hello')"
   ]
  },
  {
   "cell_type": "code",
   "execution_count": null,
   "metadata": {},
   "outputs": [],
   "source": [
    "#It deals with numbers as well\n",
    "for i in range(10):\n",
    "    print(i)"
   ]
  },
  {
   "cell_type": "code",
   "execution_count": null,
   "metadata": {},
   "outputs": [],
   "source": [
    "#Using loop to draw a square\n",
    "from turtle import *\n",
    "shape('turtle')\n",
    "for i in range(4):\n",
    "    forward(100)\n",
    "    right(90)"
   ]
  },
  {
   "cell_type": "markdown",
   "metadata": {},
   "source": [
    "Creating shortcuts with functions"
   ]
  },
  {
   "cell_type": "code",
   "execution_count": null,
   "metadata": {},
   "outputs": [],
   "source": [
    "from turtle import *\n",
    "def square():\n",
    "    for i in range(4):\n",
    "        forward(100)\n",
    "        right(90)\n",
    "        \n",
    "square()"
   ]
  },
  {
   "cell_type": "code",
   "execution_count": null,
   "metadata": {},
   "outputs": [],
   "source": [
    "'''\n",
    "Excersise 1 2: A circle of squares\n",
    "\n",
    "Write and run a function that draws 60 squares, turning 5 degrees\n",
    "after each square. Use a loop! \n",
    "\n",
    "'''\n",
    "from turtle import *\n",
    "def square_looper():\n",
    "     for j in range(60):\n",
    "          \n",
    "          for i in range(4):\n",
    "               forward(100)\n",
    "               right(90)\n",
    "          right(5)\n",
    "\n",
    "square_looper()\n"
   ]
  },
  {
   "cell_type": "markdown",
   "metadata": {},
   "source": [
    "Using variables to draw shapes"
   ]
  },
  {
   "cell_type": "code",
   "execution_count": null,
   "metadata": {},
   "outputs": [],
   "source": [
    "#Using variables in functions\n",
    "\n",
    "from turtle import *\n",
    "shape('turtle')\n",
    "\n",
    "def square(sidelength):\n",
    "    for i in range(4):\n",
    "        forward(sidelength)\n",
    "        right(90)\n",
    "    \n",
    "    #Then we run it for various values\n",
    "    \n",
    "square(50)\n",
    "square(30)\n",
    "square(100)"
   ]
  },
  {
   "cell_type": "code",
   "execution_count": null,
   "metadata": {},
   "outputs": [],
   "source": [
    "'''\n",
    "Excersise 1-3: Tri and tri again\n",
    "\n",
    "Write a triangle() function that will draw a triangle of \n",
    "a given \"side length\".\n",
    "'''\n",
    "\n",
    "from turtle import *\n",
    "shape('turtle')\n",
    "\n",
    "def triangle(sidelength):\n",
    "    for i in range(3):\n",
    "        forward(sidelength)\n",
    "        right(120)\n",
    "        \n",
    "if __name__=='__main__':\n",
    "    sidelength=float(input('Please enter the length of a side of a triangle: '))\n",
    "    triangle(sidelength)"
   ]
  },
  {
   "cell_type": "code",
   "execution_count": null,
   "metadata": {},
   "outputs": [],
   "source": [
    "'''\n",
    "Excersise 1-4: Polygon Functions\n",
    "\n",
    "Write a function called polygon that takes an integer as an\n",
    "argumet and makes the turtle draw a polygon with that integers\n",
    "number of sides\n",
    "\n",
    "'''\n",
    "\n",
    "from turtle import *\n",
    "shape('turtle')\n",
    "\n",
    "def polygon(n):\n",
    "    for i in range(n):\n",
    "        forward(100)\n",
    "        right(360/n)\n",
    "    \n",
    "if __name__=='__main__':\n",
    "    n=int(input('Please enter the number of sides: '))"
   ]
  },
  {
   "cell_type": "code",
   "execution_count": null,
   "metadata": {},
   "outputs": [],
   "source": [
    "'''\n",
    "Excersise 1-5: Turtle spiral\n",
    "\n",
    "Make a funciton to draw 60 squares, turning 5 degrees after each\n",
    "square and making each successive square bigger. Start at a length\n",
    "of 5 and increment 5 units every square. \n",
    "'''\n",
    "\n",
    "\n",
    "from turtle import *\n",
    "shape('turtle')\n",
    "speed(10)\n",
    "\n",
    "length=5\n",
    "\n",
    "def turtle_spiral():\n",
    "     length=5\n",
    "     for i in range(250):\n",
    "          for j in range(4):\n",
    "               forward(length)\n",
    "               right(90)\n",
    "          right(5)\n",
    "          length+=5\n",
    "\n",
    "turtle_spiral()\n",
    "\n"
   ]
  },
  {
   "cell_type": "code",
   "execution_count": null,
   "metadata": {},
   "outputs": [],
   "source": [
    "'''\n",
    "\n",
    "Excersise 1-6: A star is born\n",
    "\n",
    "First, write a 'star' function that will draw a five-pointed star\n",
    "\n",
    "Next, write a funciton called startSpiral() that will draw a spital\n",
    "of star.\n",
    "'''\n",
    "\n",
    "\n",
    "from  turtle import *\n",
    "shape('turtle')\n",
    "speed(10)\n",
    "'''\n",
    "#This is the first part\n",
    "def star():\n",
    "     for i in range(5):\n",
    "          forward(120)\n",
    "          right(145)\n",
    "star()\n",
    "'''\n",
    "#This is the second part\n",
    "def starSpiral():\n",
    "     length=5\n",
    "     for i in range(40):\n",
    "          for j in range(5):\n",
    "               forward(length)\n",
    "               right(145)\n",
    "          right(10)\n",
    "          length+=10\n",
    "\n",
    "starSpiral()\n",
    "     \n",
    "\n",
    "\n"
   ]
  },
  {
   "cell_type": "markdown",
   "metadata": {},
   "source": [
    "# Chapter 2: Making Tedious Arithmetic Fun with Lists and Loops\n"
   ]
  },
  {
   "cell_type": "markdown",
   "metadata": {},
   "source": [
    "Basic Operators"
   ]
  },
  {
   "cell_type": "code",
   "execution_count": null,
   "metadata": {},
   "outputs": [],
   "source": [
    ">>> 23+56 #Addition\n",
    "79\n",
    ">>> 45*89 #Multiplication with an asterisk\n",
    "4005\n",
    ">>> 46/13 #Division is with a forwards slash\n",
    "3.5384615384615383\n",
    ">>> 2**4 #Exponentiation with double asterisk\n",
    "16"
   ]
  },
  {
   "cell_type": "code",
   "execution_count": null,
   "metadata": {},
   "outputs": [],
   "source": [
    "#Operating on variables\n",
    "x=5\n",
    "x=x+2\n",
    "length=12\n",
    "x+length"
   ]
  },
  {
   "cell_type": "code",
   "execution_count": null,
   "metadata": {},
   "outputs": [],
   "source": [
    "#Using operators to write the average() function\n",
    "\n",
    "def average(a,b):\n",
    "    value=(a+b)/2\n",
    "    print(value)\n",
    "    \n",
    "if __name__=='__main__':\n",
    "    a=float(input('Please enter the first number: '))\n",
    "    b=float(input('Please enter the second number: '))\n",
    "\n",
    "    average(a,b)"
   ]
  },
  {
   "cell_type": "markdown",
   "metadata": {},
   "source": [
    "Data types in python"
   ]
  },
  {
   "cell_type": "code",
   "execution_count": null,
   "metadata": {},
   "outputs": [],
   "source": [
    "#Integers and floats\n",
    ">>> x=3\n",
    ">>> x\n",
    "3\n",
    ">>> y=float(x)\n",
    ">>> y\n",
    "3.0\n",
    ">>> z=int(y)\n",
    ">>> z\n",
    "3"
   ]
  },
  {
   "cell_type": "code",
   "execution_count": null,
   "metadata": {},
   "outputs": [],
   "source": [
    "#Strings\n",
    ">>> a='hello'\n",
    ">>> a+a\n",
    "'hellohello'\n",
    ">>> 4*a\n",
    "'hellohellohellohello'\n",
    "    #We cannot add strings with ints and floats\n",
    "    \n",
    ">>> b=2\n",
    ">>> b\n",
    "2\n",
    ">>> d='hello'\n",
    ">>> b+d\n",
    "Traceback (most recent call last):\n",
    "  File \"<pyshell#18>\", line 1, in <module>\n",
    "    b+d\n",
    "TypeError: unsupported operand type(s) for +: 'int' and 'str'\n",
    "        \n",
    "    #f we enclose it in quotes, we can add it then\n",
    "    \n",
    ">>> b='123'\n",
    ">>> c='4'\n",
    ">>> b+c\n",
    "'1234'\n",
    ">>> 'hello'+c\n",
    "'hello4'\n",
    ">>> a+b+c\n",
    "'hello1234'\n",
    "\n"
   ]
  },
  {
   "cell_type": "code",
   "execution_count": null,
   "metadata": {},
   "outputs": [],
   "source": [
    "#Booleans\n",
    ">>> 3>2\n",
    "True\n",
    "\n",
    ">>> b=5\n",
    ">>> b==5\n",
    "True\n",
    ">>> b==6\n",
    "False"
   ]
  },
  {
   "cell_type": "code",
   "execution_count": null,
   "metadata": {},
   "outputs": [],
   "source": [
    "#Checking data types\n",
    ">>> a=True\n",
    ">>> type(a)\n",
    "<class 'bool'>\n",
    ">>> b=2\n",
    ">>> type(b)\n",
    "<class 'int'>\n",
    ">>> c=0.5\n",
    ">>> type(c)\n",
    "<class 'float'>\n",
    ">>> name='Steve'\n",
    ">>> type(name)\n",
    "<class 'str'>"
   ]
  },
  {
   "cell_type": "markdown",
   "metadata": {},
   "source": [
    "Using Lists to Store Values"
   ]
  },
  {
   "cell_type": "code",
   "execution_count": null,
   "metadata": {},
   "outputs": [],
   "source": [
    ">>> a=[1,2,3]\n",
    ">>> a\n",
    "[1, 2, 3]\n",
    ">>> \n",
    ">>> b=[]\n",
    ">>> b\n"
   ]
  },
  {
   "cell_type": "code",
   "execution_count": null,
   "metadata": {},
   "outputs": [],
   "source": [
    "#Adding items to a list using append()\n",
    ">>> b.append(4)\n",
    ">>> b\n",
    "[4]\n",
    ">>> b.append(5)\n",
    ">>> b\n",
    "[4, 5]\n",
    ">>> b.append(True)\n",
    ">>> b\n",
    "[4, 5, True]\n",
    ">>> b.append('Hello')\n",
    ">>> b\n",
    "[4, 5, True, 'Hello']"
   ]
  },
  {
   "cell_type": "code",
   "execution_count": null,
   "metadata": {},
   "outputs": [],
   "source": [
    "#Operating on lists\n",
    ">>> c=[7,True]\n",
    ">>> d=[8,'Python']\n",
    ">>> c+d #Adding two lists\n",
    "[7, True, 8, 'Python']\n",
    ">>> 2*d #Multiplying a list by a number\n",
    "[8, 'Python', 8, 'Python']\n",
    ">>> d+2 #One does not att a list and an integer\n",
    "Traceback (most recent call last):\n",
    "  File \"<pyshell#31>\", line 1, in <module>\n",
    "    d+2\n",
    "TypeError: can only concatenate list (not \"int\") to list"
   ]
  },
  {
   "cell_type": "code",
   "execution_count": null,
   "metadata": {},
   "outputs": [],
   "source": [
    "#Removing Items from a list\n",
    ">>> b\n",
    "[4, 5, True, 'Hello']\n",
    ">>> b.remove(5)\n",
    ">>> b\n",
    "[4, True, 'Hello']"
   ]
  },
  {
   "cell_type": "markdown",
   "metadata": {},
   "source": [
    "Using lists in loops"
   ]
  },
  {
   "cell_type": "code",
   "execution_count": null,
   "metadata": {},
   "outputs": [],
   "source": [
    ">>> a=[12,'apple',True,0.25]\n",
    ">>> for thing in a:\n",
    "        print(thing)\n",
    "\n",
    "\n",
    "12\n",
    "apple\n",
    "True\n",
    "0.25\n",
    "\n",
    ">>> for thing in a: #Adding the end='' it prints them in one row\n",
    "                    #separated by end='argument' argument\n",
    "        print(thing,end='')\n",
    "\n",
    "\n",
    "12appleTrue0.25\n",
    "\n",
    "\n",
    ">>> a=[12,'apple',True,0.25]\n",
    ">>> for thing in a:\n",
    "        print(thing,end=',')\n",
    "\n",
    "\n",
    "12,apple,True,0.25,"
   ]
  },
  {
   "cell_type": "code",
   "execution_count": null,
   "metadata": {},
   "outputs": [],
   "source": [
    "#Accessing individual items with list indices\n",
    "\n",
    ">>> name_list=['Abe','Bob','Chloe','Daphne']\n",
    ">>> score_list=[55,63,72,54]\n",
    ">>> print(name_list[0],score_list[1])\n",
    "Abe 63\n",
    "\n",
    "    #We can also put them trough an iterator\n",
    "\n",
    ">>> for i in range(4):\n",
    "\tprint(name_list[i],score_list[i])\n",
    "\n",
    "\t\n",
    "Abe 55\n",
    "Bob 63\n",
    "Chloe 72\n",
    "Daphne 54"
   ]
  },
  {
   "cell_type": "code",
   "execution_count": null,
   "metadata": {},
   "outputs": [],
   "source": [
    "#Accessing index and value with enumerate()\n",
    "    #To get both the index and the value of an item\n",
    "    #You can use a handy function called enumerate()\n",
    "\n",
    ">>> name_list=['Abe','Bob','Chloe','Daphne']x\n",
    ">>> for i, name in enumerate(name_list):\n",
    "\tprint(name,'has the index of',i)\n",
    "\n",
    "\t\n",
    "Abe has the index of 0\n",
    "Bob has the index of 1\n",
    "Chloe has the index of 2\n",
    "Daphne has the index of 3"
   ]
  },
  {
   "cell_type": "code",
   "execution_count": null,
   "metadata": {},
   "outputs": [],
   "source": [
    "#Indices start at zero\n",
    ">>> b=[4,True,'hello']\n",
    ">>> b[0]\n",
    "4\n",
    ">>> b[2]\n",
    "'hello'\n"
   ]
  },
  {
   "cell_type": "code",
   "execution_count": null,
   "metadata": {},
   "outputs": [],
   "source": [
    "#Acessing a range of list items\n",
    "\n",
    ">>> mylist=[1,2,3,4,5,6,7,]\n",
    ">>> mylist[1:6]\n",
    "[2, 3, 4, 5, 6]\n",
    "\n",
    "    #If we leave the second argument b in list[a:b] open\n",
    "    #it will return everything from the argument a onwards\n",
    ">>> mylist[3:]\n",
    "[4, 5, 6, 7]\n",
    "\n",
    "    #If we leave the first argument a in list[a:b]open\n",
    "    #it will return everuthing up to the argument b\n",
    "\n",
    ">>> mylist[:3]\n",
    "[1, 2, 3]\n",
    "    "
   ]
  },
  {
   "cell_type": "code",
   "execution_count": null,
   "metadata": {},
   "outputs": [],
   "source": [
    "#Findint out the index of an item\n",
    ">>> c=[1,2,3,'hello']\n",
    ">>> c.index(1)\n",
    "0\n",
    ">>> c.index('hello')\n",
    "3\n",
    ">>> c.index(4) #There is no 4 in the list and thus the error\n",
    "Traceback (most recent call last):\n",
    "  File \"<pyshell#87>\", line 1, in <module>\n",
    "    c.index(4) #There is no 4 in the list and thus the error\n",
    "ValueError: 4 is not in list\n",
    "    \n",
    "    #We can check whether a certain member is in the list\n",
    "    \n",
    ">>> c\n",
    "[1, 2, 3, 'hello']\n",
    ">>> 4 in c\n",
    "False\n",
    ">>> 3 in c\n",
    "True\n",
    ">>> "
   ]
  },
  {
   "cell_type": "code",
   "execution_count": null,
   "metadata": {},
   "outputs": [],
   "source": [
    "#Strings use indices as well\n",
    "\n",
    ">>> d='python'\n",
    ">>> len(d) #How many charactes are in 'python'?\n",
    "6\n",
    ">>> d[0]\n",
    "'p'\n",
    ">>> d[1]\n",
    "'y'\n",
    ">>> d[-1]\n",
    "'n'\n",
    ">>> d[2:]\n",
    "'thon'\n",
    ">>> d[2:5]\n",
    "'tho'"
   ]
  },
  {
   "cell_type": "markdown",
   "metadata": {},
   "source": [
    "Summation"
   ]
  },
  {
   "cell_type": "code",
   "execution_count": null,
   "metadata": {},
   "outputs": [],
   "source": [
    "#Creating the running_sum variable\n",
    "\n",
    ">>> running_sum=0\n",
    ">>> running_sum+=3\n",
    ">>> running_sum\n",
    "3\n",
    ">>> running_sum+=5\n",
    ">>> running_sum\n",
    "8\n",
    "\n",
    "\n",
    "\n",
    "    #We can add this to our arithmetic.py program from before\n",
    "    \n",
    "running_sum=0\n",
    "for i in range(10):\n",
    "    running_sum+=3\n",
    "    \n",
    "running_sum"
   ]
  },
  {
   "cell_type": "code",
   "execution_count": null,
   "metadata": {},
   "outputs": [],
   "source": [
    "#Writing the mysum() function\n",
    "    #This function summs the numbers fom 1 to the num number\n",
    "    \n",
    "def mySum(num):\n",
    "    running_sum=0\n",
    "    for i in range(1,num+1):\n",
    "        running_sum+=i\n",
    "    return running_sum\n",
    "\n",
    "mySum(100)"
   ]
  },
  {
   "cell_type": "code",
   "execution_count": null,
   "metadata": {},
   "outputs": [],
   "source": [
    "#This sum sums over the function x**2+1\n",
    "\n",
    "def mySum2(num):\n",
    "    running_sum=0\n",
    "    for i in range(num+1):\n",
    "        running_sum+=i**2+1\n",
    "    return running_sum\n",
    "mySum2(20)"
   ]
  },
  {
   "cell_type": "code",
   "execution_count": null,
   "metadata": {},
   "outputs": [],
   "source": [
    "'''\n",
    "Excersise 2-1: Finding the Sum\n",
    "Find the sum of all the numbers from 1 to 100. How about 1 to 1000?\n",
    "\n",
    "See a pattern?\n",
    "\n",
    "'''\n",
    "def mySum(num):\n",
    "    running_sum=0\n",
    "    for i in range(1,num+1):\n",
    "        running_sum+=i\n",
    "    return running_sum\n",
    "\n",
    "print(mySum(100))\n",
    "print(mySum(1000))\n"
   ]
  },
  {
   "cell_type": "code",
   "execution_count": null,
   "metadata": {},
   "outputs": [],
   "source": [
    "#Finding the average of a list of numbers\n",
    "\n",
    ">>> sum([8,11,15])\n",
    "34\n",
    ">>> len([8,11,15])\n",
    "3\n",
    ">>> def average3(numList):\n",
    "\treturn sum(numList)/len(numList)\n",
    "\n",
    ">>> average3([8,11,15])\n",
    "11.333333333333334\n",
    ">>> \n"
   ]
  },
  {
   "cell_type": "code",
   "execution_count": null,
   "metadata": {},
   "outputs": [],
   "source": [
    "'''\n",
    "Excersise 2-2: Finding the Average\n",
    "\n",
    "Find the average of the list below:\n",
    "d=[53,28,54,94,65,60,22,93,62,27,16,25,75,42,4,42,15,96,11,70,83,97,75]\n",
    "'''\n",
    "\n",
    "def averagerator(numList):\n",
    "     s=sum(numList)\n",
    "     l=len(numList)\n",
    "     average=s/l\n",
    "     print(average)\n",
    "     \n",
    "\n",
    "d=[53,28,54,94,65,60,22,93,62,27,16,25,75,42,4,42,15,96,11,70,83,97,75]\n",
    "\n",
    "averagerator(d)\n"
   ]
  },
  {
   "cell_type": "markdown",
   "metadata": {},
   "source": [
    "# Chapter 3 Guessing and checking wih conditionals"
   ]
  },
  {
   "cell_type": "markdown",
   "metadata": {},
   "source": [
    "Comparison Operator"
   ]
  },
  {
   "cell_type": "code",
   "execution_count": null,
   "metadata": {},
   "outputs": [],
   "source": [
    ">>> 6>5\n",
    "True\n",
    ">>> 6>7\n",
    "False\n",
    ">>> 6=6\n",
    "SyntaxError: can't assign to literal\n",
    ">>> 6==6\n",
    "True\n",
    ">>> y=3\n",
    ">>> x=4\n",
    ">>> y>4\n",
    "False\n",
    ">>> y<10\n",
    "True"
   ]
  },
  {
   "cell_type": "markdown",
   "metadata": {},
   "source": [
    "Making decisions with if and else statements"
   ]
  },
  {
   "cell_type": "code",
   "execution_count": null,
   "metadata": {},
   "outputs": [],
   "source": [
    "#We use the if function\n",
    ">>> y=7\n",
    ">>> if y>5:\n",
    "\tprint('yes!')\n",
    "\n",
    "\t\n",
    "yes!\n",
    "\n",
    "#We can also add the else part\n",
    "\n",
    ">>> y=6\n",
    ">>> if y>7:\n",
    "\tprint('Yes!')\n",
    "else:\n",
    "\tprint('No!')\n",
    "\n",
    "\t\n",
    "No!\n",
    "\n",
    "#There is also elif\n",
    "\n",
    "def ageator(age):\n",
    "     if age<10:\n",
    "          print('What school do you go to?')\n",
    "     elif 11<age<20:\n",
    "          print(\"You're cool!\")\n",
    "     elif 20<=age<=30:\n",
    "          print('Where do you work?')\n",
    "     elif 30<=age<=40:\n",
    "          print('Are you married?')\n",
    "     else:\n",
    "          print(\"Wow you're old!\")\n",
    "\n",
    "if __name__=='__main__':\n",
    "                age=int(input('Please enter the age: '))\n",
    "                ageator(age)\n"
   ]
  },
  {
   "cell_type": "markdown",
   "metadata": {},
   "source": [
    "Using conditionals to find factors"
   ]
  },
  {
   "cell_type": "code",
   "execution_count": null,
   "metadata": {},
   "outputs": [],
   "source": [
    "#In python you can use the modulo(%) operator to calculate\n",
    "#the remainder when dividing two numbers.\n",
    "\n",
    ">>> 20%3\n",
    "2\n",
    ">>> 20%5\n",
    "0"
   ]
  },
  {
   "cell_type": "code",
   "execution_count": 1,
   "metadata": {},
   "outputs": [],
   "source": [
    "#Writing the factors.py program\n",
    "\n",
    "#Here are the factors involved:\n",
    "    #1. Define the factors funciton, which takes a number as an argument\n",
    "    #2. Create an empty factors list to fill with factors\n",
    "    #3. Loop aover all the numbers from 1 to the given number\n",
    "    #4. If any of the numbers divides evenly, add them to the list\n",
    "    #5. Return the list of factors at the end\n",
    "def factors(num):\n",
    "     factorsList=[]\n",
    "     for i in range(1,num+1):\n",
    "          if num%i==0:\n",
    "               factorsList.append(i)\n",
    "     return  factorsList"
   ]
  },
  {
   "cell_type": "code",
   "execution_count": 2,
   "metadata": {},
   "outputs": [],
   "source": [
    "'''\n",
    "Excersise 3-1: Finding the factor\n",
    "\n",
    "The factors() function could come in handy for finding the greatest common factor (GCF) of two numbers.\n",
    "Write a function that will return the GCF of two numbers.\n",
    "'''\n",
    "\n",
    "def gcf(a,b):\n",
    "     factors1=[]\n",
    "     factors2=[]\n",
    "\n",
    "     for i in range(1,a+1):\n",
    "          if a%i==0:\n",
    "               factors1.append(i)\n",
    "     for j in range(1,b+1):\n",
    "          if b%j==0:\n",
    "               factors2.append(j)\n",
    "\n",
    "     result=set(factors1).intersection(factors2)\n",
    "     print(max(result))\n"
   ]
  },
  {
   "cell_type": "code",
   "execution_count": null,
   "metadata": {},
   "outputs": [],
   "source": [
    "#The wandering turtle\n",
    "\n",
    "    #Open a new IDLE file and save it as wander.py.First import the module\n",
    "    \n",
    "from turtle import *\n",
    "from random import randint\n",
    "\n",
    "#Writing the wander.py program\n",
    "speed(91)\n",
    "def wander():\n",
    "     while True:\n",
    "          fd(3)\n",
    "          if xcor() >= 200 or xcor() <= -200 or ycor()<= -200 or ycor() >= 200:\n",
    "               lt(randint(90,180))\n",
    "wander()\n"
   ]
  },
  {
   "cell_type": "markdown",
   "metadata": {},
   "source": [
    "Creating a number-guessing game"
   ]
  },
  {
   "cell_type": "code",
   "execution_count": null,
   "metadata": {},
   "outputs": [],
   "source": [
    "#Making a random number generator\n",
    "\n",
    "from random import randint\n",
    "def numberGame():\n",
    "    number=randint(1,100)\n",
    "    \n",
    "#Taking user input\n",
    ">>> name=input(\"What's your name?\")\n",
    "What's your name? User\n",
    ">>> print(name)\n",
    "User\n",
    "\n",
    "    #We can write a function which greets us\n",
    "\n",
    "def greet():\n",
    "     name=input('What is your name, kind sire? ')\n",
    "     print('Hello',name)\n",
    "\n",
    "greet()\n"
   ]
  },
  {
   "cell_type": "code",
   "execution_count": null,
   "metadata": {},
   "outputs": [],
   "source": [
    "#Converting user input to integers using int()\n",
    "\n",
    "print(\"I'm thinking of a number between 1 and 100.\")\n",
    "guess=int(input(\"What's your guess? \"))\n"
   ]
  },
  {
   "cell_type": "code",
   "execution_count": null,
   "metadata": {},
   "outputs": [],
   "source": [
    "#Using conditionals to check for a correct gues\n",
    "    #The numberGame.py\n",
    "    \n",
    "         #The numberGame.py\n",
    "\n",
    "from random import randint\n",
    "\n",
    "def numberGame():\n",
    "     number=randint(1,100)\n",
    "     print(\"I'm thinking of a number between 1 and 100. Try to guess it.\")\n",
    "     guess=int(input(\"What's your guess? \"))\n",
    "\n",
    "     if number==guess:\n",
    "               print(\"That's correct! The number was indeed {0}\".format(number))\n",
    "     elif number>guess:\n",
    "          print('Too high. Try again.')\n",
    "     else:\n",
    "          print('Too low. Try again.')\n",
    "\n",
    "numberGame()\n"
   ]
  },
  {
   "cell_type": "code",
   "execution_count": null,
   "metadata": {},
   "outputs": [],
   "source": [
    "#Using a loop to guess again\n",
    "\n",
    "     #The numberGame.py\n",
    "\n",
    "\n",
    "from random import randint\n",
    "\n",
    "def numberGame():\n",
    "     number=randint(1,100)\n",
    "     print(\"I'm thinking of a number between 1 and 100. Try to guess it.\")\n",
    "     guess=int(input(\"What's your guess? \"))\n",
    "     while guess:\n",
    "\n",
    "          if number==guess:\n",
    "                    print(\"That's correct! The number was indeed {0}\".format(number))\n",
    "          elif number>guess:\n",
    "               print('Too low. Guess higher ')\n",
    "          else:\n",
    "               print('Too high. Guess lower')\n",
    "          guess=int(input('Try again: '))\n",
    "\n",
    "numberGame()\n"
   ]
  },
  {
   "cell_type": "markdown",
   "metadata": {},
   "source": [
    "Finding square roots"
   ]
  },
  {
   "cell_type": "code",
   "execution_count": 4,
   "metadata": {},
   "outputs": [
    {
     "name": "stdout",
     "output_type": "stream",
     "text": [
      "7.745966911315918\n",
      "Actual value: 60. Calculated Value: 60.00000339120106.\n"
     ]
    }
   ],
   "source": [
    "#Appling the number-guessing game logic\n",
    "\n",
    "    #Writing the squareroot() function\n",
    "def average(a,b):\n",
    "    return (a+b)/2\n",
    "\n",
    "def squareRoot(num,low,high):\n",
    "     for i in range(20):\n",
    "          guess=average(low,high)\n",
    "          if guess**2==num:\n",
    "               print(guess)\n",
    "          elif guess**2>num:\n",
    "               high=guess\n",
    "          else:\n",
    "               low=guess\n",
    "\n",
    "     print(guess)\n",
    "     guess_2=guess**2\n",
    "     print('Actual value: {0}. Calculated Value: {1}.'.format(num,guess_2))\n",
    "\n",
    "squareRoot(60,7,8)\n"
   ]
  },
  {
   "cell_type": "code",
   "execution_count": null,
   "metadata": {},
   "outputs": [],
   "source": [
    "'''\n",
    "Exercise 3-2: Finding the square root\n",
    "\n",
    "Find the square root of these numbers:\n",
    "200\n",
    "1000\n",
    "50000\n",
    "'''\n",
    "def average(a,b):\n",
    "     return (a+b)/2\n",
    "\n",
    "def squareRoot(num,low,high):\n",
    "     for i in range(20):\n",
    "          guess=average(low,high)\n",
    "          if guess**2==num:\n",
    "               print(guess)\n",
    "          elif guess**2>num:\n",
    "               high=guess\n",
    "          else:\n",
    "               low=guess\n",
    "\n",
    "\n",
    "     guess_2=guess**2\n",
    "     if num>guess_2:\n",
    "          value=(guess_2/num)*100\n",
    "     else:\n",
    "          value=(guess_2/num)*100\n",
    "          \n",
    "\n",
    "     print('The square root of {0} is {1}. The approximation is {2}% valid.'.format(num, guess, value))\n",
    "    \n",
    "if __name__=='__main__':\n",
    "     numbers=[200,1000,50000]\n",
    "     for i in range(len(numbers)):\n",
    "          low=1\n",
    "          high=500\n",
    "\n",
    "          squareRoot(numbers[i],low,high)\n",
    "\n",
    "\n"
   ]
  }
 ],
 "metadata": {
  "kernelspec": {
   "display_name": "Python 3",
   "language": "python",
   "name": "python3"
  },
  "language_info": {
   "codemirror_mode": {
    "name": "ipython",
    "version": 3
   },
   "file_extension": ".py",
   "mimetype": "text/x-python",
   "name": "python",
   "nbconvert_exporter": "python",
   "pygments_lexer": "ipython3",
   "version": "3.7.4"
  }
 },
 "nbformat": 4,
 "nbformat_minor": 2
}
